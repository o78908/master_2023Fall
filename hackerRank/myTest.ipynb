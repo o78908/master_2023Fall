{
 "cells": [
  {
   "cell_type": "code",
   "execution_count": 1,
   "metadata": {},
   "outputs": [
    {
     "name": "stdout",
     "output_type": "stream",
     "text": [
      "['A', 'B', 'D', 'E', 'C', 'F']\n",
      "['A', 'E', 'C', 'F', 'D', 'B']\n"
     ]
    }
   ],
   "source": [
    "#Graph\n",
    "graph = {\n",
    "    'A': [\"B\", \"D\", \"E\"],\n",
    "    'B': [\"A\", \"C\"],\n",
    "    'C': [\"B\", \"E\"],\n",
    "    'D': [\"A\", \"E\"],\n",
    "    'E': [\"A\", \"D\", \"F\", \"C\"],\n",
    "    'F': [\"E\"]     \n",
    "}\n",
    "def bfs(graph,start):\n",
    "    queue = []\n",
    "    queue.append(start)\n",
    "    result = []\n",
    "    visited = set()\n",
    "    visited.add(start)\n",
    "    while(len(queue)>0):\n",
    "        currentVertex = queue.pop(0)\n",
    "        result.append(currentVertex)\n",
    "        for neighbor in graph[currentVertex]:\n",
    "            if neighbor not in visited:\n",
    "                queue.append(neighbor)\n",
    "                visited.add(neighbor)\n",
    "    return result\n",
    "\n",
    "def bfs(graph,start):\n",
    "    queue=[]\n",
    "    queue.append(start)\n",
    "    visted=[]\n",
    "    result=[]\n",
    "    while len(queue)>0:\n",
    "        currentValue = queue.pop(0)\n",
    "        result.append(currentValue)\n",
    "        for i in graph[currentValue]:\n",
    "            if i not in visted:\n",
    "                queue.append(i)\n",
    "                visted.append(i)\n",
    "def dfs(graph,start):\n",
    "    stack = []\n",
    "    result = []\n",
    "    stack.append(start)\n",
    "    visited = set()\n",
    "    visited.add(start)\n",
    "    while(len(stack)>0):\n",
    "        currentVertex = stack.pop()\n",
    "        result.append(currentVertex)\n",
    "        for neighbor in graph[currentVertex]:\n",
    "            if neighbor not in visited:\n",
    "                stack.append(neighbor)\n",
    "                visited.add(neighbor)\n",
    "    return result\n",
    "\n",
    "\n",
    "print(bfs(graph,'A'))\n",
    "#['A', 'B', 'D', 'E', 'C', 'F']\n",
    "\n",
    "print(dfs(graph,'A'))\n",
    "#['A', 'E', 'C', 'F', 'D', 'B']"
   ]
  },
  {
   "cell_type": "code",
   "execution_count": 66,
   "metadata": {},
   "outputs": [
    {
     "name": "stdout",
     "output_type": "stream",
     "text": [
      "['ALEX', 'BLAKE']\n",
      "['CASEY']\n",
      "['Nobody has a negative balance']\n"
     ]
    }
   ],
   "source": [
    "def debtCalculator(record,groupTotalDebt):\n",
    "    borrow,lend,totalAmount = record[0],record[1],record[2]\n",
    "    \n",
    "    if borrow in groupTotalDebt:\n",
    "        borrowTotalAmount = groupTotalDebt.get(borrow) - totalAmount\n",
    "    else:\n",
    "        borrowTotalAmount = -totalAmount\n",
    "        \n",
    "    groupTotalDebt[borrow] = borrowTotalAmount\n",
    "        \n",
    "    if lend in groupTotalDebt:\n",
    "        lendTotalAmount = groupTotalDebt.get(lend) + totalAmount\n",
    "    else:\n",
    "        lendTotalAmount = totalAmount\n",
    "        \n",
    "    groupTotalDebt[lend] = lendTotalAmount\n",
    "    \n",
    "    return groupTotalDebt\n",
    "\n",
    "def getSmallBalance(groupTotalDebt):\n",
    "    minval = min(groupTotalDebt.values())\n",
    "    return [x for x in groupTotalDebt if groupTotalDebt[x] == minval] if minval < 0 else []\n",
    "\n",
    "def seperateGroupList(record):\n",
    "    value = record.split(' ')\n",
    "    if len(value) >= 3:\n",
    "        borrow = value[0].upper()\n",
    "        lend = value[1].upper()\n",
    "        totalAmount = int(value[2])\n",
    "        return [borrow, lend, totalAmount]\n",
    "    else:\n",
    "        # Handle the case where the input record is not formatted as expected\n",
    "        raise ValueError(\"Invalid record format: {}\".format(record))\n",
    "\n",
    "#####################################################ˇˇˇ\n",
    "#######試試下面這裡\n",
    "#####################################################ˇˇˇ\n",
    "\n",
    "def smallestNegativeBalance(debts):\n",
    "    groupTotalDebt = {}\n",
    "    memberDebtList = []  # 使用列表來存儲每次迭代的結果\n",
    "    for record in debts:\n",
    "        group = seperateGroupList(record)\n",
    "        memberDebt = debtCalculator(group, groupTotalDebt)\n",
    "        memberDebtList.append(memberDebt)  # 添加每次迭代的結果\n",
    "\n",
    "    smallestBalance = getSmallBalance(memberDebtList[-1])  # 使用最後一次迭代的結果\n",
    "\n",
    "    if smallestBalance:\n",
    "        smallestBalance.sort()\n",
    "    else:\n",
    "        smallestBalance = ['Nobody has a negative balance']\n",
    "\n",
    "    return smallestBalance\n",
    "###################################################ˇˇ\n",
    "           \n",
    "if __name__ == '__main__':\n",
    "    \n",
    "\n",
    "\n",
    "\n",
    "\n",
    "    debs_table = ['Alex Blake 2', 'Blake Alex 2', 'Casey Alex 5', 'Blake Casey 7', 'Alex Blake 4', 'Alex Casey 4']\n",
    "    debs_table2 = ['Alex Blake 5', 'Blake Alex 3', 'Casey Alex 7', 'Casey Alex 4', 'Casey Alex 2']\n",
    "    debs_table3 = ['Blake Alex 7', 'Blake Alex 3', 'Alex Blake 4', 'Blake Alex 1', 'Alex Blake 7']\n",
    "    # Testing return all members with balance = 0\n",
    "    # debs_table = ['Alex Blake 1', 'Blake Alex 2', 'Casey Alex 5', 'Blake Casey 3', 'Alex Blake 4', 'Alex Casey 2']\n",
    "    print(smallestNegativeBalance(debs_table))\n",
    "    print(smallestNegativeBalance(debs_table2))\n",
    "    print(smallestNegativeBalance(debs_table3))"
   ]
  },
  {
   "cell_type": "code",
   "execution_count": 69,
   "metadata": {},
   "outputs": [
    {
     "name": "stdout",
     "output_type": "stream",
     "text": [
      "0\n"
     ]
    }
   ],
   "source": [
    "def getInfectionSequences=(n, infectedHouses):\n",
    "    mod = 10**9 + 7\n",
    "    \n",
    "    # Sort the infected houses in ascending order\n",
    "    infectedHouses.sort()\n",
    "    \n",
    "    # Initialize a list to store the count of infection sequences for each house\n",
    "    dp = [0] * (n + 1)\n",
    "    \n",
    "    # Initialize the base case\n",
    "    dp[0] = 1\n",
    "    \n",
    "    # Iterate through each infected house\n",
    "    for infectedHouse in infectedHouses:\n",
    "        # Calculate the count of infection sequences for the current house\n",
    "        dp[infectedHouse] = dp[infectedHouse - 1] + dp[infectedHouse - 2]\n",
    "        dp[infectedHouse] %= mod\n",
    "    \n",
    "    # The total number of infection sequences is the count for the last house\n",
    "    return dp[n]\n",
    "\n",
    "# Example usage:\n",
    "n = 6\n",
    "m = 2\n",
    "infectedHouses = [4, 1]\n",
    "output = getInfectionSequencesCount(n, infectedHouses)\n",
    "print(output)\n"
   ]
  },
  {
   "cell_type": "code",
   "execution_count": 80,
   "metadata": {},
   "outputs": [
    {
     "name": "stdout",
     "output_type": "stream",
     "text": [
      "2\n"
     ]
    }
   ],
   "source": [
    "MOD = 10**9 + 7\n",
    "\n",
    "def getInfectionSequencesCount(n, infectedHouses):\n",
    "    if not infectedHouses or n <= 0:\n",
    "        return 0\n",
    "\n",
    "    infected_set = set(infectedHouses)\n",
    "    days = 0\n",
    "\n",
    "    while len(infected_set) < n:\n",
    "        new_infected_set = set()\n",
    "\n",
    "        for house in infected_set:\n",
    "            if house - 1 > 0 and house - 1 not in infected_set:\n",
    "                new_infected_set.add(house - 1)\n",
    "            if house + 1 <= n and house + 1 not in infected_set:\n",
    "                new_infected_set.add(house + 1)\n",
    "\n",
    "        infected_set.update(new_infected_set)\n",
    "        days += 1\n",
    "\n",
    "    return days % MOD\n",
    "\n",
    "# Example usage:\n",
    "n = 5\n",
    "infectedHouses = [1, 5]\n",
    "result = getInfectionSequencesCount(n, infectedHouses)\n",
    "print(result)  # Output: 2\n"
   ]
  },
  {
   "cell_type": "markdown",
   "metadata": {},
   "source": [
    "[greedy florist](https://www.hackerrank.com/challenges/greedy-florist/problem?isFullScreen=true) \n",
    "<br> 算要買的花的總價，每種花都要買到->所以每個人一開始都買最貴的，都買過之後再買便宜的\n"
   ]
  },
  {
   "cell_type": "code",
   "execution_count": null,
   "metadata": {},
   "outputs": [],
   "source": [
    "def getMinimumCost(k, c):\n",
    "    sum = 0  # 此變數將用於存儲最終的總花費\n",
    "    sortedData = sorted(c)  # 將花朵價格升序排列，以便按照價格遞增的順序購買\n",
    "    roundNum = 0  # 迴圈計數器，用於追蹤每個朋友購買的花朵數量\n",
    "\n",
    "    # 檢查特殊情況：如果朋友的數量等於花朵的數量，每個朋友都只購買一朵花\n",
    "    if len(c) == k:\n",
    "        for i in sortedData:\n",
    "            sum += i  # 將每朵花的價格加到總花費中\n",
    "        return sum  # 返回最終總花費\n",
    "    else:\n",
    "        # 一般情況下，遍歷花朵價格，計算最低花費\n",
    "        for i in range(len(c)-1, -1, -1):\n",
    "            # 計算當前花朵的價格所需的乘數，乘數規則是：1 + (每購買 k 朵花後的回合數)\n",
    "            sum += sortedData[i] * (1 + (roundNum // k))\n",
    "            roundNum += 1  # 更新迴圈計數器，表示已經購買了一朵花朵\n",
    "        return sum  # 返回最終總花費\n"
   ]
  }
 ],
 "metadata": {
  "kernelspec": {
   "display_name": "Python 3",
   "language": "python",
   "name": "python3"
  },
  "language_info": {
   "codemirror_mode": {
    "name": "ipython",
    "version": 3
   },
   "file_extension": ".py",
   "mimetype": "text/x-python",
   "name": "python",
   "nbconvert_exporter": "python",
   "pygments_lexer": "ipython3",
   "version": "3.9.4"
  }
 },
 "nbformat": 4,
 "nbformat_minor": 2
}
