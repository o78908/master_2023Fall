{
 "cells": [
  {
   "cell_type": "code",
   "execution_count": 65,
   "metadata": {},
   "outputs": [
    {
     "name": "stdout",
     "output_type": "stream",
     "text": [
      "2\n",
      "1\n",
      "1\n",
      "-1\n"
     ]
    }
   ],
   "source": [
    "def minimumSwaps(brackets):\n",
    "    # 總個數是奇數，不可能成立\n",
    "    n = len(brackets)\n",
    "    if n % 2 != 0:\n",
    "        return -1\n",
    "    else: #這裡沒打 ＃上面註解掉\n",
    "        count = 0\n",
    "        brackets_list = list(brackets) \n",
    "        #data記得轉list\n",
    "\n",
    "        for i in range(0, n, 2):\n",
    "            if brackets_list[i] == \")\":\n",
    "                for j in range(i + 1, n, 2):\n",
    "                    if brackets_list[j] == \"(\":\n",
    "                        # 這樣這邊才能用swap\n",
    "                        brackets_list[i], brackets_list[j] = brackets_list[j], brackets_list[i]\n",
    "                        count += 1 #########                  \n",
    "                        break ###這裡要break 而且還沒 count 裡面記得寫\n",
    "\n",
    "        return count\n",
    "\n",
    "#這可以放心超這我寫的\n",
    "\n",
    "# Example usage\n",
    "brackets = \"))()(()(\"\n",
    "result = minimumSwaps(brackets)\n",
    "print(result)  # Output: 1\n",
    "\n",
    "brackets = \"())(\"\n",
    "result = minimumSwaps(brackets)\n",
    "print(result)  # Output: 1\n",
    "\n",
    "brackets = \"(()))(\"\n",
    "result = minimumSwaps(brackets)\n",
    "print(result)  # Output: 1\n",
    "\n",
    "brackets = \"()()(\"\n",
    "result = minimumSwaps(brackets)\n",
    "print(result)  # Output: 1\n",
    "\n"
   ]
  },
  {
   "cell_type": "code",
   "execution_count": 70,
   "metadata": {},
   "outputs": [
    {
     "name": "stdout",
     "output_type": "stream",
     "text": [
      "1\n",
      "0\n",
      "0\n",
      "-1\n"
     ]
    }
   ],
   "source": [
    "def minimumNumberOfSwaps(S):\n",
    "    # Number of swaps required\n",
    "    swaps = 0\n",
    "    # Special case\n",
    "    if S is None or len(S) == 0:\n",
    "        return swaps\n",
    "    # Variable to track open brackets\n",
    "    openBrackets = 0\n",
    "    # Loop through the string\n",
    "    for c in S:\n",
    "        # If we encounter the left bracket,\n",
    "        # we will increment the count\n",
    "        if c == '(':\n",
    "            openBrackets += 1\n",
    "        # If we encounter the right bracket,\n",
    "        # then any of the two conditions can\n",
    "        # happen\n",
    "        else:\n",
    "            # If there are open brackets to the\n",
    "            # left of the current bracket,\n",
    "            # close the last encountered open\n",
    "            # bracket\n",
    "            if openBrackets != 0:\n",
    "                openBrackets -= 1\n",
    "            # If not, we will have to perform\n",
    "            # swap\n",
    "            else:\n",
    "                swaps += 1\n",
    "                # Reset the count of open brackets\n",
    "                openBrackets = 1\n",
    "    # We will need n/2 inversions for extra open brackets\n",
    "    # to make the string balanced\n",
    "    return swaps + openBrackets // 2\n",
    "\n",
    "\n",
    "if __name__ == \"__main__\":\n",
    "    S = \"()())\"\n",
    "    print(minimumNumberOfSwaps(S))\n",
    "\n",
    "    S = \"(()))(\"\n",
    "    print(minimumNumberOfSwaps(S))\n"
   ]
  },
  {
   "cell_type": "code",
   "execution_count": 59,
   "metadata": {},
   "outputs": [
    {
     "name": "stdout",
     "output_type": "stream",
     "text": [
      "1\n",
      "0\n",
      "-1\n"
     ]
    }
   ],
   "source": [
    "def minimumSwaps(brackets):\n",
    "    n = len(brackets)\n",
    "    if n % 2 != 0:\n",
    "        return -1\n",
    "\n",
    "    brackets_list = list(brackets)\n",
    "    count = 0\n",
    "\n",
    "    # Create a mapping of closing brackets to their corresponding opening brackets\n",
    "    bracket_map = {\")\": \"(\", \"}\": \"{\", \"]\": \"[\"}\n",
    "\n",
    "    for i in range(1, n, 2):\n",
    "        if brackets_list[i] == \")\":\n",
    "            # Find the correct opening bracket for the current closing bracket\n",
    "            correct_opening_bracket = bracket_map[brackets_list[i]]\n",
    "\n",
    "            # Check if the current opening bracket is not in the correct position\n",
    "            if brackets_list[i - 2::-2].count(correct_opening_bracket) == 0:\n",
    "                # Find the position of the correct opening bracket and swap\n",
    "                j = brackets_list.index(correct_opening_bracket, i - 1, n)\n",
    "                brackets_list[i], brackets_list[j] = brackets_list[j], brackets_list[i]\n",
    "                count += 1\n",
    "\n",
    "    return count\n",
    "\n",
    "# Example usage\n",
    "brackets = \"))()(()(\"\n",
    "result = minimumSwaps(brackets)\n",
    "print(result)  # Output: 1\n",
    "\n",
    "brackets = \"())(\"\n",
    "result = minimumSwaps(brackets)\n",
    "print(result)  # Output: 1\n",
    "\n",
    "brackets = \"()()(\"\n",
    "result = minimumSwaps(brackets)\n",
    "print(result)  # Output: -1\n"
   ]
  },
  {
   "cell_type": "code",
   "execution_count": 62,
   "metadata": {},
   "outputs": [
    {
     "name": "stdout",
     "output_type": "stream",
     "text": [
      "0\n"
     ]
    }
   ],
   "source": [
    "def minimumSwaps(brackets):\n",
    "    n = len(brackets)\n",
    "    if n % 2 != 0:\n",
    "        return -1\n",
    "\n",
    "    brackets_list = list(brackets)\n",
    "    count = 0\n",
    "\n",
    "    # Create a mapping of closing brackets to their corresponding opening brackets\n",
    "    bracket_map = {\")\": \"(\", \"}\": \"{\", \"]\": \"[\"}\n",
    "\n",
    "    for i in range(1, n, 2):\n",
    "        if brackets_list[i] == \")\":\n",
    "            # Find the correct opening bracket for the current closing bracket\n",
    "            correct_opening_bracket = bracket_map[brackets_list[i]]\n",
    "\n",
    "            # Check if the current opening bracket is not in the correct position\n",
    "            if brackets_list[i - 2::-2].count(correct_opening_bracket) == 0:\n",
    "                # Find the position of the correct opening bracket and swap\n",
    "                j = brackets_list.index(correct_opening_bracket, i - 1, n)\n",
    "                brackets_list[i], brackets_list[j] = brackets_list[j], brackets_list[i]\n",
    "                count += 1\n",
    "\n",
    "    return count\n",
    "\n",
    "# Example usage\n",
    "brackets = \"())(\"\n",
    "result = minimumSwaps(brackets)\n",
    "print(result)  # Output: -1\n"
   ]
  },
  {
   "cell_type": "code",
   "execution_count": 76,
   "metadata": {},
   "outputs": [
    {
     "name": "stdout",
     "output_type": "stream",
     "text": [
      "['madam', 'civic', 'level']\n"
     ]
    }
   ],
   "source": [
    "def IsPalindrome(s, start, end):\n",
    "    return s[start:end] == s[start:end][::-1]\n",
    "\n",
    "def threePalindromicSubstrings(word):\n",
    "    n = len(word)\n",
    "    # constr\n",
    "    \n",
    "    ### 拜託這個打打看 那個是限制條件的問題\n",
    "    if n < 3 or n > 5000 or not word.islower() or not word.isascii():\n",
    "        return [\"Impossible\"]\n",
    "    \n",
    "    #####不能寫中文＃＃＃＃\n",
    "    \n",
    "    # split into three substrings that are palindromes\n",
    "    for i in range(1, n - 1):\n",
    "        for j in range(i + 1, n):\n",
    "            if IsPalindrome(word, 0, i) and IsPalindrome(word, i, j) and IsPalindrome(word, j, n):\n",
    "                return [word[:i], word[i:j], word[j:]]\n",
    "    ###加這個return [\"Impossible\"]#####\n",
    "    \n",
    "# Example usage\n",
    "word = \"madamciviclevel\"\n",
    "result = threePalindromicSubstrings(word)\n",
    "print(result)\n",
    "\n",
    "word = \"madamciviclevel\"\n",
    "result = threePalindromicSubstrings(word)\n",
    "print(result)\n"
   ]
  },
  {
   "cell_type": "code",
   "execution_count": 75,
   "metadata": {},
   "outputs": [
    {
     "name": "stdout",
     "output_type": "stream",
     "text": [
      "['Impossible']\n",
      "['madam', 'civic', 'level']\n"
     ]
    }
   ],
   "source": [
    "def IsPalindrome(s, start, end):\n",
    "    return s[start:end] == s[start:end][::-1]\n",
    "\n",
    "def threePalindromicSubstrings(word):\n",
    "    n = len(word)\n",
    "    # lenth of word <= 5000 start to do\n",
    "    \n",
    "\n",
    "    \n",
    "    if n < 3:\n",
    "        return [\"Impossible\"]\n",
    "    \n",
    "    # split into three substrings that are palindromes\n",
    "    for i in range(1, n - 1):\n",
    "        for j in range(i + 1, n):\n",
    "            if IsPalindrome(word, 0, i) and IsPalindrome(word, i, j) and IsPalindrome(word, j, n):\n",
    "                return [word[:i], word[i:j], word[j:]]\n",
    "        \n",
    "\n",
    "# Example usage\n",
    "word = \"y\"*100000\n",
    "result = threePalindromicSubstrings(word)\n",
    "print(result)\n",
    "\n",
    "\n",
    "word = \"madamciviclevel\"\n",
    "result = threePalindromicSubstrings(word)\n",
    "print(result)"
   ]
  },
  {
   "cell_type": "code",
   "execution_count": null,
   "metadata": {},
   "outputs": [],
   "source": [
    "def threePalindromicSubstrings(word):\n",
    "    n = len(word)\n",
    "    \n",
    "    if n < 3:\n",
    "        return [\"Impossible\"]\n",
    "\n",
    "    # Helper function to find the next palindrome after a given index\n",
    "    def findNextPalindrome(start):\n",
    "        for end in range(start + 2, n):\n",
    "            if IsPalindrome(word, start, end):\n",
    "                return end\n",
    "        return -1\n",
    "\n",
    "    # Find the first palindrome\n",
    "    end1 = findNextPalindrome(0)\n",
    "    if end1 == -1:\n",
    "        return [\"Impossible\"]\n",
    "\n",
    "    # Find the second palindrome\n",
    "    end2 = findNextPalindrome(end1)\n",
    "    if end2 == -1:\n",
    "        return [\"Impossible\"]\n",
    "\n",
    "    # Find the third palindrome\n",
    "    end3 = findNextPalindrome(end2)\n",
    "    if end3 == -1:\n",
    "        return [\"Impossible\"]\n",
    "\n",
    "    # Return the three palindromic substrings\n",
    "    return [word[:end1], word[end1:end2], word[end2:end3]]"
   ]
  }
 ],
 "metadata": {
  "kernelspec": {
   "display_name": "base",
   "language": "python",
   "name": "python3"
  },
  "language_info": {
   "codemirror_mode": {
    "name": "ipython",
    "version": 3
   },
   "file_extension": ".py",
   "mimetype": "text/x-python",
   "name": "python",
   "nbconvert_exporter": "python",
   "pygments_lexer": "ipython3",
   "version": "3.10.8"
  }
 },
 "nbformat": 4,
 "nbformat_minor": 2
}
